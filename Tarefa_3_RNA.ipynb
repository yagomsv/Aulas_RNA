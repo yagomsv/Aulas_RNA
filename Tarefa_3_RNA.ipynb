{
 "cells": [
  {
   "cell_type": "markdown",
   "id": "4605e7ae-dc49-4a87-820e-a165147156da",
   "metadata": {},
   "source": [
    "# Solução Tarefa 3 - Função lógica OR\n",
    "# Aluno: Yago Matheus da Silva Veloso"
   ]
  },
  {
   "cell_type": "markdown",
   "id": "7bcd357a-e222-44ca-aaa3-796791a48a18",
   "metadata": {
    "tags": []
   },
   "source": [
    "## Importando bibliotecas"
   ]
  },
  {
   "cell_type": "code",
   "execution_count": 1,
   "id": "892f220c-b57c-474e-bc9f-9b505226256c",
   "metadata": {},
   "outputs": [],
   "source": [
    "import pandas as pd\n",
    "import numpy as np"
   ]
  },
  {
   "cell_type": "markdown",
   "id": "26328259-0e5f-4e5c-b2ea-c52aab52074a",
   "metadata": {},
   "source": [
    "# Criando conjunto de treinamento"
   ]
  },
  {
   "cell_type": "code",
   "execution_count": 2,
   "id": "7f680d4a-9ca7-4d9e-8c97-5f4e087dffdd",
   "metadata": {},
   "outputs": [
    {
     "data": {
      "text/html": [
       "<div>\n",
       "<style scoped>\n",
       "    .dataframe tbody tr th:only-of-type {\n",
       "        vertical-align: middle;\n",
       "    }\n",
       "\n",
       "    .dataframe tbody tr th {\n",
       "        vertical-align: top;\n",
       "    }\n",
       "\n",
       "    .dataframe thead th {\n",
       "        text-align: right;\n",
       "    }\n",
       "</style>\n",
       "<table border=\"1\" class=\"dataframe\">\n",
       "  <thead>\n",
       "    <tr style=\"text-align: right;\">\n",
       "      <th></th>\n",
       "      <th>x1</th>\n",
       "      <th>x2</th>\n",
       "      <th>y</th>\n",
       "    </tr>\n",
       "  </thead>\n",
       "  <tbody>\n",
       "    <tr>\n",
       "      <th>0</th>\n",
       "      <td>0</td>\n",
       "      <td>0</td>\n",
       "      <td>0</td>\n",
       "    </tr>\n",
       "    <tr>\n",
       "      <th>1</th>\n",
       "      <td>0</td>\n",
       "      <td>1</td>\n",
       "      <td>1</td>\n",
       "    </tr>\n",
       "    <tr>\n",
       "      <th>2</th>\n",
       "      <td>1</td>\n",
       "      <td>0</td>\n",
       "      <td>1</td>\n",
       "    </tr>\n",
       "    <tr>\n",
       "      <th>3</th>\n",
       "      <td>1</td>\n",
       "      <td>1</td>\n",
       "      <td>1</td>\n",
       "    </tr>\n",
       "  </tbody>\n",
       "</table>\n",
       "</div>"
      ],
      "text/plain": [
       "   x1  x2  y\n",
       "0   0   0  0\n",
       "1   0   1  1\n",
       "2   1   0  1\n",
       "3   1   1  1"
      ]
     },
     "execution_count": 2,
     "metadata": {},
     "output_type": "execute_result"
    }
   ],
   "source": [
    "df = pd.DataFrame([[0,0,0],\n",
    "                 [0,1,1],\n",
    "                 [1,0,1],\n",
    "                 [1,1,1],])\n",
    "df.columns = ['x1', 'x2', 'y']\n",
    "df"
   ]
  },
  {
   "cell_type": "code",
   "execution_count": 3,
   "id": "5434ebd4-082a-4dc6-afa6-d057c8255758",
   "metadata": {},
   "outputs": [],
   "source": [
    "X = df.drop(['y'], axis=1, inplace=False).values\n",
    "y = df['y'].values"
   ]
  },
  {
   "cell_type": "code",
   "execution_count": 4,
   "id": "b3201245-05f4-4a1d-848f-9cea5031257e",
   "metadata": {},
   "outputs": [
    {
     "data": {
      "text/plain": [
       "array([[0, 0],\n",
       "       [0, 1],\n",
       "       [1, 0],\n",
       "       [1, 1]], dtype=int64)"
      ]
     },
     "execution_count": 4,
     "metadata": {},
     "output_type": "execute_result"
    }
   ],
   "source": [
    "X"
   ]
  },
  {
   "cell_type": "code",
   "execution_count": 5,
   "id": "8e5c0778-f24a-45df-877e-ef094d472696",
   "metadata": {},
   "outputs": [
    {
     "data": {
      "text/plain": [
       "array([0, 1, 1, 1], dtype=int64)"
      ]
     },
     "execution_count": 5,
     "metadata": {},
     "output_type": "execute_result"
    }
   ],
   "source": [
    "y"
   ]
  },
  {
   "cell_type": "markdown",
   "id": "33907700-a8b6-40a0-b3fc-1b11ad33f6e8",
   "metadata": {},
   "source": [
    "## Inicializando os pesos do modelo de neurônio binário"
   ]
  },
  {
   "cell_type": "code",
   "execution_count": 6,
   "id": "d565a3f5-f368-4506-9ec0-792c9798226a",
   "metadata": {},
   "outputs": [
    {
     "name": "stdout",
     "output_type": "stream",
     "text": [
      "[0.79, 0.29, 0.69]\n"
     ]
    }
   ],
   "source": [
    "# Inicialização dos pesos\n",
    "import random\n",
    "w1= round(random.random(), 2)\n",
    "w2= round(random.random(), 2)\n",
    "tetha= round(random.random(), 2)\n",
    "x0 = -1\n",
    "passo_ap = 0.5\n",
    "\n",
    "pesos = [w1,w2,tetha]\n",
    "print(pesos)"
   ]
  },
  {
   "cell_type": "markdown",
   "id": "d849177d-c729-4fb5-bd87-496e10c8a8fb",
   "metadata": {},
   "source": [
    "## Construção do modelo OR"
   ]
  },
  {
   "cell_type": "markdown",
   "id": "615c8a40-ddf4-4a0c-96e5-9838857125d6",
   "metadata": {},
   "source": [
    "### Método 1"
   ]
  },
  {
   "cell_type": "code",
   "execution_count": 7,
   "id": "8adef9f3-f8c4-4e29-a07a-c01a5b6a1ba6",
   "metadata": {},
   "outputs": [
    {
     "name": "stdout",
     "output_type": "stream",
     "text": [
      "Número de loops foi igual a: 2\n",
      "Valores de Y preditos: [0, 1, 1, 1]\n",
      "Valroes de Y reais: [0 1 1 1]\n",
      "Número de erros: 0\n"
     ]
    }
   ],
   "source": [
    "err = [0, 0, 0, 0]\n",
    "deltaw1 = [0, 0, 0, 0]\n",
    "deltaw2 = [0, 0, 0, 0]\n",
    "delta_tetha = [0, 0, 0, 0]\n",
    "erro = 1000\n",
    "EPOCHS = 0\n",
    "y_pred = [0,0,0,0]\n",
    "u = [0,0,0,0]\n",
    "\n",
    "\n",
    "while erro != 0:\n",
    "    \n",
    "    for i in range(0,4):\n",
    "        u[i] = X[i,0]*w1 + X[i,1]*w2 + tetha*x0\n",
    "    \n",
    "        if u[i] > 0:\n",
    "            y_pred[i] = 1\n",
    "        else:\n",
    "            y_pred[i] = 0\n",
    "        \n",
    "        err[i] = y[i]- y_pred[i]\n",
    "\n",
    "        deltaw1[i]= passo_ap*(X[i,0])*(err[i])\n",
    "        deltaw2[i]= passo_ap*(X[i,1])*(err[i])\n",
    "        delta_tetha[i]= passo_ap*x0*(err[i])\n",
    "        \n",
    "        w1 = w1 + deltaw1[i]\n",
    "        w2 = w2 + deltaw2[i]\n",
    "        tetha = tetha + delta_tetha[i]\n",
    "\n",
    "    erro = abs(sum(err))\n",
    "        \n",
    "    EPOCHS += 1\n",
    "print(\"Número de loops foi igual a:\", EPOCHS)\n",
    "print(\"Valores de Y preditos:\", y_pred)\n",
    "print(\"Valroes de Y reais:\", y)\n",
    "print(\"Número de erros:\", erro)"
   ]
  },
  {
   "cell_type": "markdown",
   "id": "3695a7d2-5fa6-475c-94a1-896c1d7b1d2d",
   "metadata": {},
   "source": [
    "### Método 2"
   ]
  },
  {
   "cell_type": "code",
   "execution_count": 8,
   "id": "5307ee8c-6930-47eb-a7b7-2f737e8d1e14",
   "metadata": {},
   "outputs": [
    {
     "name": "stdout",
     "output_type": "stream",
     "text": [
      "O número total de loops foi igual a 3\n",
      "Valores de Y preditos: [0, 1, 1, 1]\n",
      "Valroes de Y reais: [0 1 1 1]\n",
      "Número de erros: 0\n"
     ]
    }
   ],
   "source": [
    "err = [0, 0, 0, 0]\n",
    "u = [0, 0, 0, 0]\n",
    "y_pred = [0, 0, 0, 0]\n",
    "erro = 100\n",
    "EPOCHS = 0\n",
    "w1 = pesos[0]\n",
    "w2 = pesos[1]\n",
    "tetha = pesos[2]\n",
    "\n",
    "while erro != 0:\n",
    "    \n",
    "    for i in range(0,4):\n",
    "        u[i] = (w1*X[i,0]) + (w2*X[i,1]) + (tetha*x0)           \n",
    "        \n",
    "        if u[i] > 0:\n",
    "            y_pred[i] = 1\n",
    "        else:\n",
    "            y_pred[i] = 0\n",
    "        \n",
    "        err[i] = y[i]- y_pred[i]\n",
    "    \n",
    "        if y_pred[i] == y[i]:\n",
    "            w1 = w1\n",
    "            w2 = w2\n",
    "            tetha = tetha\n",
    "        if (y_pred[i] != y[i]) and (y_pred[i] == 0):\n",
    "            w1 = w1 + X[i,0]\n",
    "            w2 = w2 + X[i,1]\n",
    "            tetha = tetha + x0\n",
    "        if (y_pred[i] != y[i]) and (y_pred[i] == 1):\n",
    "            w1 = w1 - X[i,0]\n",
    "            w2 = w2 - X[i,1]\n",
    "            tetha = tetha - x0\n",
    "        \n",
    "        erro = abs(sum(err))\n",
    "    \n",
    "    EPOCHS += 1\n",
    "\n",
    "print(\"O número total de loops foi igual a\", EPOCHS)\n",
    "print(\"Valores de Y preditos:\", y_pred)\n",
    "print(\"Valroes de Y reais:\", y)\n",
    "print(\"Número de erros:\", erro)"
   ]
  },
  {
   "cell_type": "markdown",
   "id": "9b65a6ac-072e-419e-8b50-c9f68a3eb466",
   "metadata": {},
   "source": [
    "Comparando-se os dois métodos utilizados nas linhas de código acima, percebe-se que o <b>Método 2</b> necessita de <b>mais de loop(s) para convergir</b> e encontrar a resposta correta. "
   ]
  }
 ],
 "metadata": {
  "kernelspec": {
   "display_name": "Python 3 (ipykernel)",
   "language": "python",
   "name": "python3"
  },
  "language_info": {
   "codemirror_mode": {
    "name": "ipython",
    "version": 3
   },
   "file_extension": ".py",
   "mimetype": "text/x-python",
   "name": "python",
   "nbconvert_exporter": "python",
   "pygments_lexer": "ipython3",
   "version": "3.9.12"
  }
 },
 "nbformat": 4,
 "nbformat_minor": 5
}

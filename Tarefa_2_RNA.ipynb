{
  "cells": [
    {
      "cell_type": "markdown",
      "metadata": {
        "id": "view-in-github",
        "colab_type": "text"
      },
      "source": [
        "<a href=\"https://colab.research.google.com/github/yagomsv/Aulas_RNA/blob/main/Tarefa_2_RNA.ipynb\" target=\"_parent\"><img src=\"https://colab.research.google.com/assets/colab-badge.svg\" alt=\"Open In Colab\"/></a>"
      ]
    },
    {
      "cell_type": "markdown",
      "id": "ee4af5b1-94bd-477f-9b1c-4a703c3271d2",
      "metadata": {
        "id": "ee4af5b1-94bd-477f-9b1c-4a703c3271d2"
      },
      "source": [
        "# Aluno: Yago Matheus da Silva Veloso"
      ]
    },
    {
      "cell_type": "markdown",
      "id": "d061a4f7-5160-42c2-89db-4a88a8e7c55b",
      "metadata": {
        "id": "d061a4f7-5160-42c2-89db-4a88a8e7c55b"
      },
      "source": [
        "## Importando bibliotecas"
      ]
    },
    {
      "cell_type": "code",
      "execution_count": null,
      "id": "d0249ac2-c42f-440a-8865-073f852589b8",
      "metadata": {
        "id": "d0249ac2-c42f-440a-8865-073f852589b8"
      },
      "outputs": [],
      "source": [
        "import pandas as pd\n",
        "import numpy as np"
      ]
    },
    {
      "cell_type": "markdown",
      "id": "be8a6938-b54e-4946-8f85-cad7f09203d5",
      "metadata": {
        "id": "be8a6938-b54e-4946-8f85-cad7f09203d5"
      },
      "source": [
        "## Escrevendo o dataframe e escolhe as variáveis de entrada e saída"
      ]
    },
    {
      "cell_type": "code",
      "execution_count": null,
      "id": "1f0f2943-5143-4abe-aba1-791a588d1694",
      "metadata": {
        "id": "1f0f2943-5143-4abe-aba1-791a588d1694"
      },
      "outputs": [],
      "source": [
        "df = pd.DataFrame([[188, 114, 2, 39.11],\n",
        "                 [224, 202, 1, 46.32],\n",
        "                 [177, 297, 1, 48.98],\n",
        "                 [234, 210, 2, 52.32],\n",
        "                 [278, 120, 1, 45.53],\n",
        "                 [248, 239, 2, 56.32],\n",
        "                 [193, 262, 2, 52.06],\n",
        "                 [142, 276, 1, 43.29],\n",
        "                 [250, 137, 1, 43.80],\n",
        "                 [218, 147, 1, 41.04],])"
      ]
    },
    {
      "cell_type": "code",
      "execution_count": null,
      "id": "6c74f82e-54f9-4b88-b57a-41b2da3ec9b7",
      "metadata": {
        "id": "6c74f82e-54f9-4b88-b57a-41b2da3ec9b7",
        "outputId": "c02c0ae6-7313-4790-9f7d-89283c616470"
      },
      "outputs": [
        {
          "data": {
            "text/html": [
              "<div>\n",
              "<style scoped>\n",
              "    .dataframe tbody tr th:only-of-type {\n",
              "        vertical-align: middle;\n",
              "    }\n",
              "\n",
              "    .dataframe tbody tr th {\n",
              "        vertical-align: top;\n",
              "    }\n",
              "\n",
              "    .dataframe thead th {\n",
              "        text-align: right;\n",
              "    }\n",
              "</style>\n",
              "<table border=\"1\" class=\"dataframe\">\n",
              "  <thead>\n",
              "    <tr style=\"text-align: right;\">\n",
              "      <th></th>\n",
              "      <th>Peixe (gr)</th>\n",
              "      <th>Batata frita (gr)</th>\n",
              "      <th>Cerveja (un)</th>\n",
              "      <th>Preço refeição (R$)</th>\n",
              "    </tr>\n",
              "  </thead>\n",
              "  <tbody>\n",
              "    <tr>\n",
              "      <th>0</th>\n",
              "      <td>188</td>\n",
              "      <td>114</td>\n",
              "      <td>2</td>\n",
              "      <td>39.11</td>\n",
              "    </tr>\n",
              "    <tr>\n",
              "      <th>1</th>\n",
              "      <td>224</td>\n",
              "      <td>202</td>\n",
              "      <td>1</td>\n",
              "      <td>46.32</td>\n",
              "    </tr>\n",
              "    <tr>\n",
              "      <th>2</th>\n",
              "      <td>177</td>\n",
              "      <td>297</td>\n",
              "      <td>1</td>\n",
              "      <td>48.98</td>\n",
              "    </tr>\n",
              "    <tr>\n",
              "      <th>3</th>\n",
              "      <td>234</td>\n",
              "      <td>210</td>\n",
              "      <td>2</td>\n",
              "      <td>52.32</td>\n",
              "    </tr>\n",
              "    <tr>\n",
              "      <th>4</th>\n",
              "      <td>278</td>\n",
              "      <td>120</td>\n",
              "      <td>1</td>\n",
              "      <td>45.53</td>\n",
              "    </tr>\n",
              "    <tr>\n",
              "      <th>5</th>\n",
              "      <td>248</td>\n",
              "      <td>239</td>\n",
              "      <td>2</td>\n",
              "      <td>56.32</td>\n",
              "    </tr>\n",
              "    <tr>\n",
              "      <th>6</th>\n",
              "      <td>193</td>\n",
              "      <td>262</td>\n",
              "      <td>2</td>\n",
              "      <td>52.06</td>\n",
              "    </tr>\n",
              "    <tr>\n",
              "      <th>7</th>\n",
              "      <td>142</td>\n",
              "      <td>276</td>\n",
              "      <td>1</td>\n",
              "      <td>43.29</td>\n",
              "    </tr>\n",
              "    <tr>\n",
              "      <th>8</th>\n",
              "      <td>250</td>\n",
              "      <td>137</td>\n",
              "      <td>1</td>\n",
              "      <td>43.80</td>\n",
              "    </tr>\n",
              "    <tr>\n",
              "      <th>9</th>\n",
              "      <td>218</td>\n",
              "      <td>147</td>\n",
              "      <td>1</td>\n",
              "      <td>41.04</td>\n",
              "    </tr>\n",
              "  </tbody>\n",
              "</table>\n",
              "</div>"
            ],
            "text/plain": [
              "   Peixe (gr)  Batata frita (gr)  Cerveja (un)  Preço refeição (R$)\n",
              "0         188                114             2                39.11\n",
              "1         224                202             1                46.32\n",
              "2         177                297             1                48.98\n",
              "3         234                210             2                52.32\n",
              "4         278                120             1                45.53\n",
              "5         248                239             2                56.32\n",
              "6         193                262             2                52.06\n",
              "7         142                276             1                43.29\n",
              "8         250                137             1                43.80\n",
              "9         218                147             1                41.04"
            ]
          },
          "execution_count": 3,
          "metadata": {},
          "output_type": "execute_result"
        }
      ],
      "source": [
        "df.columns = ['Peixe (gr)', 'Batata frita (gr)', 'Cerveja (un)', 'Preço refeição (R$)']\n",
        "df"
      ]
    },
    {
      "cell_type": "code",
      "execution_count": null,
      "id": "2d92f12b-cba4-4a83-ba48-0d7095ffd35a",
      "metadata": {
        "id": "2d92f12b-cba4-4a83-ba48-0d7095ffd35a"
      },
      "outputs": [],
      "source": [
        "X = df.drop(['Preço refeição (R$)'], axis=1, inplace=False).values\n",
        "y = df['Preço refeição (R$)'].values"
      ]
    },
    {
      "cell_type": "code",
      "execution_count": null,
      "id": "79a026e4-bef6-46dc-9b14-f12d7f059d75",
      "metadata": {
        "id": "79a026e4-bef6-46dc-9b14-f12d7f059d75",
        "outputId": "5f8727cd-b020-4ca0-fb89-206b9337d397"
      },
      "outputs": [
        {
          "data": {
            "text/plain": [
              "array([[188, 114,   2],\n",
              "       [224, 202,   1],\n",
              "       [177, 297,   1],\n",
              "       [234, 210,   2],\n",
              "       [278, 120,   1],\n",
              "       [248, 239,   2],\n",
              "       [193, 262,   2],\n",
              "       [142, 276,   1],\n",
              "       [250, 137,   1],\n",
              "       [218, 147,   1]], dtype=int64)"
            ]
          },
          "execution_count": 5,
          "metadata": {},
          "output_type": "execute_result"
        }
      ],
      "source": [
        "X"
      ]
    },
    {
      "cell_type": "code",
      "execution_count": null,
      "id": "1de27507-4b33-4eb9-9c49-583ffe5979c8",
      "metadata": {
        "id": "1de27507-4b33-4eb9-9c49-583ffe5979c8",
        "outputId": "7884d2ad-ec84-4c83-847b-67a0cfa83991"
      },
      "outputs": [
        {
          "data": {
            "text/plain": [
              "array([39.11, 46.32, 48.98, 52.32, 45.53, 56.32, 52.06, 43.29, 43.8 ,\n",
              "       41.04])"
            ]
          },
          "execution_count": 6,
          "metadata": {},
          "output_type": "execute_result"
        }
      ],
      "source": [
        "y"
      ]
    },
    {
      "cell_type": "markdown",
      "id": "e7c42f88-a9b0-43c1-a174-0a281d719775",
      "metadata": {
        "id": "e7c42f88-a9b0-43c1-a174-0a281d719775"
      },
      "source": [
        "## Inicializando os pesos e a taxa de aprendizagem"
      ]
    },
    {
      "cell_type": "code",
      "execution_count": null,
      "id": "0276e228-52ef-496a-bffe-b0a4cacf8932",
      "metadata": {
        "id": "0276e228-52ef-496a-bffe-b0a4cacf8932",
        "outputId": "6152e5c5-5dee-4dea-8c56-ab235f8d1501"
      },
      "outputs": [
        {
          "name": "stdout",
          "output_type": "stream",
          "text": [
            "0.47 [0.22] [0.75]\n"
          ]
        }
      ],
      "source": [
        "# Inicialização dos pesos\n",
        "rng = np.random.default_rng()\n",
        "w1= rng.random((1,)).round(2)\n",
        "w2= rng.random((1,)).round(2)\n",
        "w3= rng.random((1,)).round(2)\n",
        "\n",
        "taxa_ap = 0.00001\n",
        "    \n",
        "print(w1,w2,w3)"
      ]
    },
    {
      "cell_type": "markdown",
      "id": "ffc90e25-448e-4283-b102-39915391a01e",
      "metadata": {
        "id": "ffc90e25-448e-4283-b102-39915391a01e"
      },
      "source": [
        "## Calculando as incógnitas a partir de um neurônio linear"
      ]
    },
    {
      "cell_type": "code",
      "execution_count": null,
      "id": "6460c19a-682b-4fe9-b69b-bab0711a1441",
      "metadata": {
        "id": "6460c19a-682b-4fe9-b69b-bab0711a1441",
        "outputId": "ab2267c5-de9b-4e84-eddc-091bd1fcfebf"
      },
      "outputs": [
        {
          "name": "stdout",
          "output_type": "stream",
          "text": [
            "Número de EPOCHS é: 10000\n",
            "Número de EPOCHS é: 20000\n",
            "Número de EPOCHS é: 30000\n",
            "Número de EPOCHS é: 40000\n",
            "Número de EPOCHS é: 50000\n",
            "Número de EPOCHS é: 60000\n",
            "Número de EPOCHS é: 70000\n",
            "Número de EPOCHS é: 80000\n",
            "Número de EPOCHS é: 90000\n",
            "Número de EPOCHS é: 100000\n",
            "O Número de EPOCHS foi igual a 104983\n"
          ]
        }
      ],
      "source": [
        "err = [0, 0, 0, 0, 0, 0, 0, 0, 0, 0]\n",
        "deltaw1 = [0, 0, 0, 0, 0, 0, 0, 0, 0, 0]\n",
        "deltaw2 = [0, 0, 0, 0, 0, 0, 0, 0, 0, 0]\n",
        "deltaw3 = [0, 0, 0, 0, 0, 0, 0, 0, 0, 0]\n",
        "z1 = [0, 0, 0, 0, 0, 0, 0, 0, 0, 0]\n",
        "z2 = [0, 0, 0, 0, 0, 0, 0, 0, 0, 0]\n",
        "z3 = [0, 0, 0, 0, 0, 0, 0, 0, 0, 0]\n",
        "MSE = 1000\n",
        "EPOCHS = 0\n",
        "\n",
        "while MSE > 0.01:\n",
        "    \n",
        "    for j in range(0,10):\n",
        "        z1[j] = w1*X[j,0]\n",
        "        z2[j] = w2*X[j,1]\n",
        "        z3[j] = w3*X[j,2]\n",
        "        y_pred= z1[j] + z2[j] + z3[j]\n",
        "    \n",
        "        err[j] = y[j]- y_pred\n",
        "\n",
        "        deltaw1[j]= taxa_ap*(X[j,0])*(err[j])\n",
        "        deltaw2[j]= taxa_ap*(X[j,1])*(err[j])\n",
        "        deltaw3[j]= taxa_ap*(X[j,2])*(err[j])\n",
        "        \n",
        "        w1 = w1 + deltaw1[j]\n",
        "        w2 = w2 + deltaw2[j]\n",
        "        w3 = w3 + deltaw3[j]\n",
        "        \n",
        "        MSE = abs(sum(y[j]- y_pred))\n",
        "        \n",
        "    EPOCHS += 1\n",
        "    if (EPOCHS % 10000) == 0:\n",
        "        print(\"Número de EPOCHS é:\", EPOCHS)\n",
        "       \n",
        "\n",
        "print(\"O Número de EPOCHS foi igual a\", EPOCHS)"
      ]
    },
    {
      "cell_type": "code",
      "execution_count": null,
      "id": "419ef344-ba73-4723-b948-34954201f478",
      "metadata": {
        "id": "419ef344-ba73-4723-b948-34954201f478",
        "outputId": "fddc5dbe-fda4-4816-9095-ff1e9fa53a0e"
      },
      "outputs": [
        {
          "data": {
            "text/plain": [
              "0.009999897464702201"
            ]
          },
          "execution_count": 9,
          "metadata": {},
          "output_type": "execute_result"
        }
      ],
      "source": [
        "MSE"
      ]
    },
    {
      "cell_type": "code",
      "execution_count": null,
      "id": "fc4d6a7a-d6e9-415c-80ee-a269b3ada6f5",
      "metadata": {
        "id": "fc4d6a7a-d6e9-415c-80ee-a269b3ada6f5",
        "outputId": "a18a7520-e8ed-4829-a1df-b0b46fc0777c"
      },
      "outputs": [
        {
          "name": "stdout",
          "output_type": "stream",
          "text": [
            "O valor do MSE é 0.010\n",
            "Os valores dos pesos (w1, w2 e w3), são respectivamente iguais à [0.1130932] [0.08389623] [4.04985074]\n"
          ]
        }
      ],
      "source": [
        "print(\"O valor do MSE é {:.3f}\".format(MSE))\n",
        "print(\"Os valores dos pesos (w1, w2 e w3), são respectivamente iguais à\",w1, w2, w3)"
      ]
    },
    {
      "cell_type": "markdown",
      "id": "1c820dcf-748f-46f3-a901-fbd9f8574e85",
      "metadata": {
        "id": "1c820dcf-748f-46f3-a901-fbd9f8574e85"
      },
      "source": [
        "### O preço de cada parcela que compõe as refeições são:\n",
        "- <b>Peixe: R$ 0,1130 para cada grama de produto\n",
        "\n",
        "- <b>Batata frita: R$ 0,08389 para cada grama de produto\n",
        "\n",
        "- <b>Cerveja: R$ 4,049 por unidade\n"
      ]
    },
    {
      "cell_type": "code",
      "execution_count": null,
      "id": "36a1a5b1-eb1b-44c3-8127-7fe1ec542738",
      "metadata": {
        "id": "36a1a5b1-eb1b-44c3-8127-7fe1ec542738",
        "outputId": "427bc413-88c3-4487-e146-cdaafc038e3a"
      },
      "outputs": [
        {
          "name": "stdout",
          "output_type": "stream",
          "text": [
            "O Preço para 100 g de peixe é: R$ [11.30931986]\n",
            "O Preço para 100 g de batata frita é: R$ [8.38962272]\n",
            "O Preço de uma unidade de cerveja é: R$ [4.04985074]\n",
            "O Preço total: R$ [23.74879332]\n"
          ]
        }
      ],
      "source": [
        "preco_demonst = 100*w1 + 100*w2 + 1*w3\n",
        "print(\"O Preço para 100 g de peixe é: R$\", (100*w1))\n",
        "print(\"O Preço para 100 g de batata frita é: R$\", (100*w2))\n",
        "print(\"O Preço de uma unidade de cerveja é: R$\", (1*w3))\n",
        "print(\"O Preço total: R$\", preco_demonst)"
      ]
    }
  ],
  "metadata": {
    "kernelspec": {
      "display_name": "Python 3 (ipykernel)",
      "language": "python",
      "name": "python3"
    },
    "language_info": {
      "codemirror_mode": {
        "name": "ipython",
        "version": 3
      },
      "file_extension": ".py",
      "mimetype": "text/x-python",
      "name": "python",
      "nbconvert_exporter": "python",
      "pygments_lexer": "ipython3",
      "version": "3.9.12"
    },
    "colab": {
      "provenance": [],
      "include_colab_link": true
    }
  },
  "nbformat": 4,
  "nbformat_minor": 5
}
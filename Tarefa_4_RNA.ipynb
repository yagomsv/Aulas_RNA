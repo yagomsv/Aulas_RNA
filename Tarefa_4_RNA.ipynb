{
  "cells": [
    {
      "cell_type": "markdown",
      "metadata": {
        "id": "view-in-github",
        "colab_type": "text"
      },
      "source": [
        "<a href=\"https://colab.research.google.com/github/yagomsv/Aulas_RNA/blob/main/Tarefa_4_RNA.ipynb\" target=\"_parent\"><img src=\"https://colab.research.google.com/assets/colab-badge.svg\" alt=\"Open In Colab\"/></a>"
      ]
    },
    {
      "cell_type": "markdown",
      "id": "71fdc75e-0be1-4683-b7b1-6e3ea3793330",
      "metadata": {
        "id": "71fdc75e-0be1-4683-b7b1-6e3ea3793330"
      },
      "source": [
        "# Solução Tarefa 4 - Identificando a paridade de um número"
      ]
    },
    {
      "cell_type": "markdown",
      "id": "bb6a7ccb-d096-4703-ba52-7834738885ff",
      "metadata": {
        "id": "bb6a7ccb-d096-4703-ba52-7834738885ff"
      },
      "source": [
        "## Aluno: Yago Matheus da Silva Veloso e Paulo Roberto Santana dos Reis"
      ]
    },
    {
      "cell_type": "markdown",
      "id": "a73305a2-70cd-4e0e-92df-14b37a4157b5",
      "metadata": {
        "id": "a73305a2-70cd-4e0e-92df-14b37a4157b5"
      },
      "source": [
        "### Importando bibliotecas"
      ]
    },
    {
      "cell_type": "code",
      "execution_count": null,
      "id": "e4fb5adc-9138-4be6-a255-8705d20c3070",
      "metadata": {
        "id": "e4fb5adc-9138-4be6-a255-8705d20c3070"
      },
      "outputs": [],
      "source": [
        "import numpy as np"
      ]
    },
    {
      "cell_type": "markdown",
      "id": "a4ba3884-39fc-4f88-abe9-1f333c3d2e4c",
      "metadata": {
        "id": "a4ba3884-39fc-4f88-abe9-1f333c3d2e4c"
      },
      "source": [
        "## Construindo banco de dados"
      ]
    },
    {
      "cell_type": "markdown",
      "id": "1d070c61-cee0-4b7f-8c1e-78814ca41743",
      "metadata": {
        "id": "1d070c61-cee0-4b7f-8c1e-78814ca41743"
      },
      "source": [
        "### Criação dos dígitos"
      ]
    },
    {
      "cell_type": "code",
      "execution_count": null,
      "id": "bc2d8b4f-6fa9-46f1-9030-ed018291d612",
      "metadata": {
        "id": "bc2d8b4f-6fa9-46f1-9030-ed018291d612"
      },
      "outputs": [],
      "source": [
        "zero = np.array([[1,1,1],[1,0,1],[1,0,1],[1,0,1],[1,1,1]])\n",
        "um = np.array([[0,1,0],[0,1,0],[0,1,0],[0,1,0],[0,1,0]])\n",
        "dois = np.array([[1,1,1],[0,0,1],[1,1,1],[1,0,0],[1,1,1]])\n",
        "tres = np.array([[1,1,1],[0,0,1],[1,1,1],[0,0,1],[1,1,1]])\n",
        "quatro = np.array([[1,0,1],[1,0,1],[1,1,1],[0,0,1],[0,0,1]])\n",
        "cinco = np.array([[1,1,1],[1,0,0],[1,1,1],[0,0,1],[1,1,1]])\n",
        "seis = np.array([[1,1,1],[1,0,0],[1,1,1],[1,0,1],[1,1,1]])\n",
        "sete = np.array([[1,1,1],[0,0,1],[1,1,1],[0,0,1],[0,0,1]])\n",
        "oito = np.array([[1,1,1],[1,0,1],[1,1,1],[1,0,1],[1,1,1]])\n",
        "nove = np.array(([1,1,1],[1,0,1],[1,1,1],[0,0,1],[0,0,1]))"
      ]
    },
    {
      "cell_type": "markdown",
      "id": "0bf90dcf-4eee-4c2a-9aff-722025638928",
      "metadata": {
        "id": "0bf90dcf-4eee-4c2a-9aff-722025638928"
      },
      "source": [
        "### Transformação das matrizes de dígitos em vetores e criação do dataset"
      ]
    },
    {
      "cell_type": "markdown",
      "id": "e743b66b-0182-401c-9ec1-f1a8df104712",
      "metadata": {
        "id": "e743b66b-0182-401c-9ec1-f1a8df104712"
      },
      "source": [
        "A função <i>.flatten()</i> transforma as matrizes dos dígitos em vetores"
      ]
    },
    {
      "cell_type": "code",
      "execution_count": null,
      "id": "532ef97a-cf39-408c-bbb4-ff75e9098918",
      "metadata": {
        "id": "532ef97a-cf39-408c-bbb4-ff75e9098918"
      },
      "outputs": [],
      "source": [
        "zero = zero.flatten()\n",
        "um = um.flatten()\n",
        "dois = dois.flatten()\n",
        "tres = tres.flatten()\n",
        "quatro = quatro.flatten()\n",
        "cinco = cinco.flatten()\n",
        "seis = seis.flatten()\n",
        "sete = sete.flatten()\n",
        "oito = oito.flatten()\n",
        "nove = nove.flatten()\n",
        "\n",
        "X = np.array([[zero],\n",
        "       [um],\n",
        "       [dois],\n",
        "       [tres],\n",
        "       [quatro],\n",
        "       [cinco],\n",
        "       [seis],\n",
        "       [sete],\n",
        "       [oito],\n",
        "       [nove],])\n",
        "\n",
        "y = [0,1,0,1,0,1,0,1,0,1]"
      ]
    },
    {
      "cell_type": "markdown",
      "id": "23220da1-817a-40a2-83d5-75377eb63267",
      "metadata": {
        "id": "23220da1-817a-40a2-83d5-75377eb63267"
      },
      "source": [
        "A função <i>np.c_</i> está concatenando os vetores dos dígitos em colunas e a função <i>.T</i> realiza a transposta da matriz."
      ]
    },
    {
      "cell_type": "code",
      "execution_count": null,
      "id": "40c490b2-3f17-4149-a834-9b9746df4395",
      "metadata": {
        "id": "40c490b2-3f17-4149-a834-9b9746df4395",
        "outputId": "4fb1bb98-15cb-4b09-84f1-283642f03fb2"
      },
      "outputs": [
        {
          "data": {
            "text/plain": [
              "array([[1, 1, 1, 1, 0, 1, 1, 0, 1, 1, 0, 1, 1, 1, 1],\n",
              "       [0, 1, 0, 0, 1, 0, 0, 1, 0, 0, 1, 0, 0, 1, 0],\n",
              "       [1, 1, 1, 0, 0, 1, 1, 1, 1, 1, 0, 0, 1, 1, 1],\n",
              "       [1, 1, 1, 0, 0, 1, 1, 1, 1, 0, 0, 1, 1, 1, 1],\n",
              "       [1, 0, 1, 1, 0, 1, 1, 1, 1, 0, 0, 1, 0, 0, 1],\n",
              "       [1, 1, 1, 1, 0, 0, 1, 1, 1, 0, 0, 1, 1, 1, 1],\n",
              "       [1, 1, 1, 1, 0, 0, 1, 1, 1, 1, 0, 1, 1, 1, 1],\n",
              "       [1, 1, 1, 0, 0, 1, 1, 1, 1, 0, 0, 1, 0, 0, 1],\n",
              "       [1, 1, 1, 1, 0, 1, 1, 1, 1, 1, 0, 1, 1, 1, 1],\n",
              "       [1, 1, 1, 1, 0, 1, 1, 1, 1, 0, 0, 1, 0, 0, 1]])"
            ]
          },
          "execution_count": 4,
          "metadata": {},
          "output_type": "execute_result"
        }
      ],
      "source": [
        "X = np.c_[zero, um, dois, tres, quatro, cinco, seis, sete, oito, nove].T\n",
        "X"
      ]
    },
    {
      "cell_type": "code",
      "execution_count": null,
      "id": "68a42522-8cfa-4765-bd1e-315852d2165b",
      "metadata": {
        "id": "68a42522-8cfa-4765-bd1e-315852d2165b",
        "outputId": "446c0e64-3e86-4bc2-f7fa-3294e4b4355d"
      },
      "outputs": [
        {
          "data": {
            "text/plain": [
              "[0, 1, 0, 1, 0, 1, 0, 1, 0, 1]"
            ]
          },
          "execution_count": 5,
          "metadata": {},
          "output_type": "execute_result"
        }
      ],
      "source": [
        "y"
      ]
    },
    {
      "cell_type": "markdown",
      "id": "8b229415-33fd-4e95-b95b-c4feabce1e19",
      "metadata": {
        "id": "8b229415-33fd-4e95-b95b-c4feabce1e19"
      },
      "source": [
        "## Inicializando os pesos"
      ]
    },
    {
      "cell_type": "code",
      "execution_count": null,
      "id": "cb160d26-762b-4cf3-98eb-1f217bccb91f",
      "metadata": {
        "id": "cb160d26-762b-4cf3-98eb-1f217bccb91f"
      },
      "outputs": [],
      "source": [
        "import random\n",
        "rg = np.random.default_rng() \n",
        "pesos = rg.random((1,14))\n",
        "tetha= round(random.random(),2)\n",
        "x0 = -1"
      ]
    },
    {
      "cell_type": "code",
      "execution_count": null,
      "id": "9ab20ff7-94a1-4a86-a953-0d7e51bba4bb",
      "metadata": {
        "id": "9ab20ff7-94a1-4a86-a953-0d7e51bba4bb",
        "outputId": "54499b56-1846-40fb-814c-b197dbc27874"
      },
      "outputs": [
        {
          "data": {
            "text/plain": [
              "0.86"
            ]
          },
          "execution_count": 7,
          "metadata": {},
          "output_type": "execute_result"
        }
      ],
      "source": [
        "tetha"
      ]
    },
    {
      "cell_type": "code",
      "execution_count": null,
      "id": "880821d5-10b2-4d6e-b25f-e13cad623527",
      "metadata": {
        "id": "880821d5-10b2-4d6e-b25f-e13cad623527",
        "outputId": "577b4f5e-5e1c-4e61-8922-ce3f6cd6463a"
      },
      "outputs": [
        {
          "data": {
            "text/plain": [
              "array([[0.16271226, 0.19705685, 0.48271291, 0.428074  , 0.60774271,\n",
              "        0.12976246, 0.69074056, 0.81200974, 0.34117221, 0.74236214,\n",
              "        0.71907394, 0.01425105, 0.9157986 , 0.73308632]])"
            ]
          },
          "execution_count": 8,
          "metadata": {},
          "output_type": "execute_result"
        }
      ],
      "source": [
        "pesos"
      ]
    },
    {
      "cell_type": "markdown",
      "id": "80e4b726-3808-4cc2-9018-136aa42bffae",
      "metadata": {
        "id": "80e4b726-3808-4cc2-9018-136aa42bffae"
      },
      "source": [
        "## Construção do modelo para identificação de paridade"
      ]
    },
    {
      "cell_type": "code",
      "execution_count": null,
      "id": "90b9df67-4137-4a5d-8c8b-43dfd5d96dad",
      "metadata": {
        "tags": [],
        "id": "90b9df67-4137-4a5d-8c8b-43dfd5d96dad",
        "outputId": "87986e96-9b10-44c3-cc05-83d53b9d5c7a"
      },
      "outputs": [
        {
          "name": "stdout",
          "output_type": "stream",
          "text": [
            "Número de EPOCHS é: 7\n",
            "Número de padrões: 21\n",
            "Valores de Y preditos: [0, 1, 0, 1, 0, 1, 0, 1, 0, 1]\n",
            "Valores de Y reais: [0, 1, 0, 1, 0, 1, 0, 1, 0, 1]\n",
            "Número de erros: [0, 0, 0, 0, 0, 0, 0, 0, 0, 0]\n"
          ]
        }
      ],
      "source": [
        "a = [0,0,0,0,0,0,0,0,0,0,0,0,0,0]\n",
        "netj = [0,0,0,0,0,0,0,0,0,0]\n",
        "y_pred = [0,0,0,0,0,0,0,0,0,0]\n",
        "erro = [0,0,0,0,0,0,0,0,0,0]\n",
        "conta_epoch = 0\n",
        "erro_total = 100\n",
        "\n",
        "\n",
        "#Algoritmo de treinamento\n",
        "while (erro_total != 0):\n",
        "    padrao = 1\n",
        "    \n",
        "    for j in range(0,10):\n",
        "        # Inclusão do Bias em cada vetor\n",
        "        netj[j] = (tetha*x0)\n",
        "        \n",
        "        for i in range(0,14):\n",
        "    \n",
        "            a[i] = (X[j,i]*pesos[0,i])\n",
        "        \n",
        "        \n",
        "        netj[j] = netj[j]+ (sum(a))\n",
        "            \n",
        "        if netj[j] >= tetha:\n",
        "            y_pred[j] = 1 #valor impar\n",
        "        else:\n",
        "            y_pred[j] = 0 #valor par\n",
        "\n",
        "        erro[j] = (abs(y[j]-y_pred[j]))\n",
        "\n",
        "        if (y[j] == y_pred[j]):\n",
        "            padrao = padrao +1\n",
        "            \n",
        "        for i in range(0,14):\n",
        "            if (y[j] != y_pred[j]) and (y_pred[j] == 0):\n",
        "                pesos[0,i] = pesos[0,i] + X[j,i] #atualização dos pesos\n",
        "            if (y[j] != y_pred[j]) and (y_pred[j] == 1):\n",
        "                pesos[0,i] = pesos[0,i] - X[j,i] #atualização dos pesos\n",
        "                \n",
        "        if (y[j] != y_pred[j]) and (y_pred[j] == 0):\n",
        "            tetha = tetha + x0\n",
        "        if (y[j] != y_pred[j]) and (y_pred[j] == 1):\n",
        "            tetha = tetha - x0\n",
        "    \n",
        "        padrao = padrao +1\n",
        "\n",
        "        erro_total = abs(sum(erro))\n",
        "        \n",
        "    conta_epoch += 1\n",
        "    if (conta_epoch % 10000) == 0:\n",
        "        print(\"Número de EPOCHS é:\", conta_epoch)\n",
        "\n",
        "    \n",
        "# Resposta do modleo após o treinamento\n",
        "print(\"Número de EPOCHS é:\", conta_epoch)\n",
        "print(\"Número de padrões:\", padrao)\n",
        "print(\"Valores de Y preditos:\", y_pred)\n",
        "print(\"Valores de Y reais:\", y)\n",
        "print(\"Número de erros:\", erro)"
      ]
    },
    {
      "cell_type": "code",
      "execution_count": null,
      "id": "4fb6c9aa-675d-4603-8ca1-9d88f359581a",
      "metadata": {
        "id": "4fb6c9aa-675d-4603-8ca1-9d88f359581a",
        "outputId": "efac220b-952b-458f-e3d2-30b0c8987112"
      },
      "outputs": [
        {
          "name": "stdout",
          "output_type": "stream",
          "text": [
            "Os pesos atuais são respectivamente:\n",
            " [[ -0.83728774   5.19705685  -0.51728709  -3.571926     1.60774271\n",
            "   -1.87023754  -0.30925944   2.81200974  -0.65882779 -10.25763786\n",
            "    1.71907394   2.01425105  -1.0842014   -0.26691368]]\n"
          ]
        }
      ],
      "source": [
        "print(\"Os pesos atuais são respectivamente:\\n\", pesos)"
      ]
    },
    {
      "cell_type": "markdown",
      "id": "5b2f1ac0-efd0-41af-8a30-670359cf0f5c",
      "metadata": {
        "id": "5b2f1ac0-efd0-41af-8a30-670359cf0f5c"
      },
      "source": [
        "## Testando o perceptron criado com os parâmetros treinados"
      ]
    },
    {
      "cell_type": "code",
      "execution_count": null,
      "id": "8ff6934c-e996-44ee-9859-4ebda3fe8d4b",
      "metadata": {
        "id": "8ff6934c-e996-44ee-9859-4ebda3fe8d4b",
        "outputId": "56cf4e45-3a12-4b0f-f9ab-d1f42d6ed7a8"
      },
      "outputs": [
        {
          "name": "stdin",
          "output_type": "stream",
          "text": [
            "Digite um número entre 0 e 9 (inteiro): 5\n"
          ]
        },
        {
          "name": "stdout",
          "output_type": "stream",
          "text": [
            "O número é ímpar\n"
          ]
        }
      ],
      "source": [
        "numero = int(input(\"Digite um número entre 0 e 9 (inteiro):\"))\n",
        "b = X[numero,:]\n",
        "\n",
        "netj = (tetha*x0)\n",
        "\n",
        "for i in range(0,14):\n",
        "    a[i] = (b[i] *pesos[0,i])\n",
        "\n",
        "netj = netj+ sum(a)\n",
        "\n",
        "if netj >= tetha:\n",
        "    print(\"O número é ímpar\") #valor impar\n",
        "else:\n",
        "    print(\"O número é par\") #valor par"
      ]
    }
  ],
  "metadata": {
    "kernelspec": {
      "display_name": "Python 3 (ipykernel)",
      "language": "python",
      "name": "python3"
    },
    "language_info": {
      "codemirror_mode": {
        "name": "ipython",
        "version": 3
      },
      "file_extension": ".py",
      "mimetype": "text/x-python",
      "name": "python",
      "nbconvert_exporter": "python",
      "pygments_lexer": "ipython3",
      "version": "3.9.12"
    },
    "colab": {
      "provenance": [],
      "include_colab_link": true
    }
  },
  "nbformat": 4,
  "nbformat_minor": 5
}
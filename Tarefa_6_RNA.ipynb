{
  "nbformat": 4,
  "nbformat_minor": 0,
  "metadata": {
    "colab": {
      "provenance": []
    },
    "kernelspec": {
      "name": "python3",
      "display_name": "Python 3"
    },
    "language_info": {
      "name": "python"
    }
  },
  "cells": [
    {
      "cell_type": "markdown",
      "source": [
        "# **Solução Tarefa 06 - Identificando padrões (rede perceptron)**\n",
        "\n",
        "## **Alunos: Yago Matheus da Silva Veloso e Paulo Roberto Santana dos Reis**"
      ],
      "metadata": {
        "id": "txJWMuh1gIQB"
      }
    },
    {
      "cell_type": "markdown",
      "source": [
        "## **Carregando bibliotecas** "
      ],
      "metadata": {
        "id": "t4gd6BQ7gvev"
      }
    },
    {
      "cell_type": "code",
      "source": [
        "import matplotlib.pyplot as plt\n",
        "import numpy as np"
      ],
      "metadata": {
        "id": "DohMzjw6gzCr"
      },
      "execution_count": 1,
      "outputs": []
    },
    {
      "cell_type": "markdown",
      "source": [
        "## **Carregando banco de dados e tratando as imagens**"
      ],
      "metadata": {
        "id": "ccuV6VPhhuD_"
      }
    },
    {
      "cell_type": "code",
      "source": [
        "# Monta o Google Drive\n",
        "from google.colab import drive\n",
        "drive.mount('/content/drive')"
      ],
      "metadata": {
        "id": "TedRvTash2-X",
        "colab": {
          "base_uri": "https://localhost:8080/"
        },
        "outputId": "5cb4425c-e60c-414a-81bb-1d5b21eb51cc"
      },
      "execution_count": 2,
      "outputs": [
        {
          "output_type": "stream",
          "name": "stdout",
          "text": [
            "Drive already mounted at /content/drive; to attempt to forcibly remount, call drive.mount(\"/content/drive\", force_remount=True).\n"
          ]
        }
      ]
    },
    {
      "cell_type": "code",
      "source": [
        "dados = '/content/drive/MyDrive/Colab Notebooks/Padrões_RNA'"
      ],
      "metadata": {
        "id": "ax2m3fP5hyDv"
      },
      "execution_count": 3,
      "outputs": []
    },
    {
      "cell_type": "markdown",
      "source": [
        "### Executando a leitura das imagens e carregando os pixels em um banco de dados"
      ],
      "metadata": {
        "id": "-YfTOB_UhNZE"
      }
    },
    {
      "cell_type": "code",
      "source": [
        "%%time\n",
        "X = []\n",
        "y = []\n",
        "pixels_ = []\n",
        "\n",
        "from PIL import Image # PIL é a biblioteca do python que fornece os recursos de edição de imagens no python\n",
        "\n",
        "for k in range(0,10):\n",
        "    k =  str(k)\n",
        "    for j in range(1,53):\n",
        "      if j<10:\n",
        "        j='0' + str(j)\n",
        "      else:\n",
        "        j = str(j)\n",
        "      for i in range(1,4):\n",
        "        i = str(i)\n",
        "        \n",
        "        # Leitura da imagem\n",
        "        comando= \"Image.open('\" + dados + \"/\" + k + \"_\" + j + \"_\" + i + \".png').convert('L')\"  # executa a busca pela imagens dentro do banco de dados\n",
        "        img=eval(comando) # Comando eval() executa o código python, neste caso código \"comando\"\n",
        "        \n",
        "        # Convertendo imagem em array\n",
        "        pixels = np.array(img)\n",
        "        pixels[pixels > 180] = 255\n",
        "\n",
        "        # Retirando excesso de bordas horizontais\n",
        "        tonalidade=240\n",
        "        nz = (pixels > tonalidade).sum(1)\n",
        "        q = pixels[nz != pixels.shape[1], :]\n",
        "\n",
        "        # Retirando excesso de bordas verticais\n",
        "        nz = (q > tonalidade).sum(0)\n",
        "        q = q[:, nz != q.shape[0]]\n",
        "\n",
        "        # Transformando matriz em uma imagem após processamento\n",
        "        img = Image.fromarray(pixels)\n",
        "\n",
        "        # Redimensionamento da imagem\n",
        "        altura=28\n",
        "        largura=28\n",
        "        newsize = (altura, largura) \n",
        "        img = img.resize(newsize)\n",
        "\n",
        "        #Transformando imagem em preto e branco\n",
        "        pixels = np.array(img)\n",
        "        pixels=(pixels < 230).astype(int)\n",
        "\n",
        "        #Vetorizando os pixels\n",
        "        #pixels = np.array(pixels.flatten())\n",
        "\n",
        "        #Formando o banco de dados\n",
        "        X.append(pixels)\n",
        "        y.append(k)\n",
        "        pixels_.append(pixels)\n"
      ],
      "metadata": {
        "id": "ix0bdNvJgwYN",
        "colab": {
          "base_uri": "https://localhost:8080/"
        },
        "outputId": "51c12f34-79e8-4bc6-edce-d76dd2209262"
      },
      "execution_count": 86,
      "outputs": [
        {
          "output_type": "stream",
          "name": "stdout",
          "text": [
            "CPU times: user 1.19 s, sys: 244 ms, total: 1.43 s\n",
            "Wall time: 3.04 s\n"
          ]
        }
      ]
    },
    {
      "cell_type": "code",
      "source": [
        "# Transformando uma matriz 3D em 2D\n",
        "X = np.array(X)\n",
        "X = X.reshape(1560,-1)\n",
        "np.shape(X)"
      ],
      "metadata": {
        "id": "8dRf6E0X7zd0",
        "colab": {
          "base_uri": "https://localhost:8080/"
        },
        "outputId": "45f394c4-71da-4675-f9b0-ed5a143a05dd"
      },
      "execution_count": 87,
      "outputs": [
        {
          "output_type": "execute_result",
          "data": {
            "text/plain": [
              "(1560, 784)"
            ]
          },
          "metadata": {},
          "execution_count": 87
        }
      ]
    },
    {
      "cell_type": "code",
      "source": [
        "from sklearn.preprocessing import OneHotEncoder\n",
        "y = np.array(y)\n",
        "y = y.reshape(-1,1)\n",
        "encoder = OneHotEncoder(handle_unknown = 'ignore')\n",
        "y_ =(encoder.fit_transform(y)).toarray()\n",
        "print(y_)"
      ],
      "metadata": {
        "id": "75_p-PdO2h0e",
        "colab": {
          "base_uri": "https://localhost:8080/"
        },
        "outputId": "08f640b9-29cb-4307-be7f-b72745101480"
      },
      "execution_count": 88,
      "outputs": [
        {
          "output_type": "stream",
          "name": "stdout",
          "text": [
            "[[1. 0. 0. ... 0. 0. 0.]\n",
            " [1. 0. 0. ... 0. 0. 0.]\n",
            " [1. 0. 0. ... 0. 0. 0.]\n",
            " ...\n",
            " [0. 0. 0. ... 0. 0. 1.]\n",
            " [0. 0. 0. ... 0. 0. 1.]\n",
            " [0. 0. 0. ... 0. 0. 1.]]\n"
          ]
        }
      ]
    },
    {
      "cell_type": "code",
      "source": [
        "np.shape(y_)"
      ],
      "metadata": {
        "colab": {
          "base_uri": "https://localhost:8080/"
        },
        "id": "Z3X-8WiabBr4",
        "outputId": "75edf705-2d4c-4937-94fa-5edf55d11baf"
      },
      "execution_count": 89,
      "outputs": [
        {
          "output_type": "execute_result",
          "data": {
            "text/plain": [
              "(1560, 10)"
            ]
          },
          "metadata": {},
          "execution_count": 89
        }
      ]
    },
    {
      "cell_type": "code",
      "source": [
        "zero_class_x = X[0:155]\n",
        "zero_class_y = y_[0:155]"
      ],
      "metadata": {
        "id": "PBBXgFsSa6-5"
      },
      "execution_count": 90,
      "outputs": []
    },
    {
      "cell_type": "markdown",
      "source": [
        "### Testando a visualização de números do banco de dados"
      ],
      "metadata": {
        "id": "OuP_lJWipovC"
      }
    },
    {
      "cell_type": "code",
      "source": [
        "%matplotlib inline\n",
        "plt.imshow(pixels, cmap='gray')\n",
        "plt.show()"
      ],
      "metadata": {
        "id": "8w1W0VMSluv3",
        "colab": {
          "base_uri": "https://localhost:8080/",
          "height": 265
        },
        "outputId": "8eb2d1d8-8008-4497-b9ec-0b17b3b54dd8"
      },
      "execution_count": 91,
      "outputs": [
        {
          "output_type": "display_data",
          "data": {
            "text/plain": [
              "<Figure size 432x288 with 1 Axes>"
            ],
            "image/png": "[encoded data removed]"
          },
          "metadata": {
            "needs_background": "light"
          }
        }
      ]
    },
    {
      "cell_type": "markdown",
      "source": [
        "### Dividindo o banco de dados para teste e treino"
      ],
      "metadata": {
        "id": "-2xkbKKILT29"
      }
    },
    {
      "cell_type": "code",
      "source": [
        "from sklearn.model_selection import train_test_split\n",
        "\n",
        "X_train, X_test, y_train, y_test = train_test_split(X, y_, test_size=0.1, random_state = 42, shuffle = True)"
      ],
      "metadata": {
        "id": "4acGz0u8LTAl"
      },
      "execution_count": 92,
      "outputs": []
    },
    {
      "cell_type": "markdown",
      "source": [
        "Alguns detalhes sobre a função train_test_split:\n",
        "\n",
        "*   A função *random_state*, controla a randomização dos dados antes de realizar a divisão. Se o valor da função *random_state* for None (default), todas as vezes que for realizado a execução do algoritmo ele irá gerar um novo banco organizado aleatoriamente. Desta forma o programador irá encontrar um resultado diferente para o memso modelo todas as vezes que executar o algoritmo. Se *random_state* for igual a um valor interio **(popularmente 0 ou 42)**, o algoritmo irá gerar um mesmo resultado de aleatorização a cada execução, sendo assim o modelo que utilizar os dados sempre irá gerar o mesmo resultado.\n",
        "*   A função *shuffle*, controla se o algoritmo deve ou não embaralhar os dados antes de dividir. Por *default*, essa função é igual a ***True***.\n",
        "\n"
      ],
      "metadata": {
        "id": "el_ITPk1URUD"
      }
    },
    {
      "cell_type": "code",
      "source": [
        "np.shape(X_train)"
      ],
      "metadata": {
        "id": "gWQacGa2u-8v",
        "colab": {
          "base_uri": "https://localhost:8080/"
        },
        "outputId": "5a088f97-b04a-4745-e2c7-a5c25ad5c762"
      },
      "execution_count": 93,
      "outputs": [
        {
          "output_type": "execute_result",
          "data": {
            "text/plain": [
              "(1404, 784)"
            ]
          },
          "metadata": {},
          "execution_count": 93
        }
      ]
    },
    {
      "cell_type": "code",
      "source": [
        "np.shape(y_train)"
      ],
      "metadata": {
        "id": "_SeDLImGxR2f",
        "colab": {
          "base_uri": "https://localhost:8080/"
        },
        "outputId": "742b457f-b55d-4819-b11f-49a5479f8732"
      },
      "execution_count": 94,
      "outputs": [
        {
          "output_type": "execute_result",
          "data": {
            "text/plain": [
              "(1404, 10)"
            ]
          },
          "metadata": {},
          "execution_count": 94
        }
      ]
    },
    {
      "cell_type": "code",
      "source": [
        "y_train[1403]"
      ],
      "metadata": {
        "colab": {
          "base_uri": "https://localhost:8080/"
        },
        "id": "9DxeJEWsQuWJ",
        "outputId": "5e977700-7c9b-4f02-8080-8f7657bef08f"
      },
      "execution_count": 95,
      "outputs": [
        {
          "output_type": "execute_result",
          "data": {
            "text/plain": [
              "array([0., 0., 0., 0., 0., 0., 0., 1., 0., 0.])"
            ]
          },
          "metadata": {},
          "execution_count": 95
        }
      ]
    },
    {
      "cell_type": "markdown",
      "source": [
        "## **Construção e treinamento do modelo Perceptron para identificação de dígitos**"
      ],
      "metadata": {
        "id": "ME77BHUxShtF"
      }
    },
    {
      "cell_type": "markdown",
      "source": [
        "### Carregando os pesos do perceptron"
      ],
      "metadata": {
        "id": "dJ09IbtVMKsW"
      }
    },
    {
      "cell_type": "code",
      "source": [
        "# Definindo a taxa de aprendizagem\n",
        "taxa_ap = 0.001\n",
        "\n",
        "# Gerando o valor do peso w0 e x0\n",
        "w0 = pesos_entr = np.random.rand(1)\n",
        "x0 = 1\n",
        "# Gerando valores dos pesos dos neurônios de entrada/ camada intermediária\n",
        "pesos_entr = np.random.rand(784)\n",
        "\n",
        "# Gerando valores dos pesos dos neurônios de entrada/ camada intermediária\n",
        "#pesos_saida = np.random.rand(10)"
      ],
      "metadata": {
        "id": "pbuIAml4MKZp"
      },
      "execution_count": 118,
      "outputs": []
    },
    {
      "cell_type": "code",
      "source": [
        "pesos_entr"
      ],
      "metadata": {
        "id": "Ffffgj3sQ-kr"
      },
      "execution_count": null,
      "outputs": []
    },
    {
      "cell_type": "code",
      "source": [
        "sum(pesos_entr)"
      ],
      "metadata": {
        "colab": {
          "base_uri": "https://localhost:8080/"
        },
        "id": "PLqin8F3zfi-",
        "outputId": "7906c064-2e14-4017-9586-79f1a7fd8750"
      },
      "execution_count": 130,
      "outputs": [
        {
          "output_type": "execute_result",
          "data": {
            "text/plain": [
              "374.9826665980863"
            ]
          },
          "metadata": {},
          "execution_count": 130
        }
      ]
    },
    {
      "cell_type": "code",
      "source": [
        "w0"
      ],
      "metadata": {
        "id": "DnOryB9mtfEO",
        "colab": {
          "base_uri": "https://localhost:8080/"
        },
        "outputId": "0aecd3b4-dd90-410e-82ca-b597306e8be8"
      },
      "execution_count": 129,
      "outputs": [
        {
          "output_type": "execute_result",
          "data": {
            "text/plain": [
              "array([37.60636651])"
            ]
          },
          "metadata": {},
          "execution_count": 129
        }
      ]
    },
    {
      "cell_type": "markdown",
      "source": [
        "### Construção do modelo perceptron e treinamento"
      ],
      "metadata": {
        "id": "-jh36boqTDxw"
      }
    },
    {
      "cell_type": "code",
      "source": [
        "from math import exp\n",
        "import random\n",
        "\n",
        "a = np.zeros(10)\n",
        "erro = np.zeros(10)\n",
        "conta_epoch = 0\n",
        "erro_total = 100\n",
        "padrao = 0\n",
        "u = np.zeros(10)\n",
        "y_pred = np.zeros(10)\n",
        " \n",
        "while (erro_total != 0 and conta_epoch < 500):\n",
        "  dff = random.sample(range(len(X_train)), (len(X_train)))\n",
        "  for i in range(len(dff)):\n",
        "    entrada = X_train[dff[i]]\n",
        "    saida_desejada = y_train[dff[i]]\n",
        "    for l in range(0,10):\n",
        "      a[l] = sum(pesos_entr*entrada)\n",
        "\n",
        "    u[l]= a[l] + (x0*w0)\n",
        "\n",
        "    if u[l] < 0:\n",
        "      y_pred[l] = 1 - (1/(1 + (exp(u[l]))))\n",
        "    else:\n",
        "      y_pred[l] = 1/(1 + (exp(-u[l])))\n",
        "\n",
        "    erro[l] = y_pred[l]- saida_desejada[l]\n",
        "\n",
        "    if y_pred[l] == saida_desejada[l]:\n",
        "      padrao = padrao + 1\n",
        "\n",
        "    for j in range(0,10):  \n",
        "      if (y_pred[j] != saida_desejada[j]) and (y_pred[j] == 0):\n",
        "        pesos_entr = pesos_entr + (entrada*taxa_ap)\n",
        "        w0 = w0 + x0\n",
        "      if (y_pred[j] != saida_desejada[j]) and (y_pred[j] == 1):\n",
        "        pesos_entr = pesos_entr - (entrada*taxa_ap)\n",
        "        w0 = w0 - x0\n",
        "    \n",
        "    padrao = padrao + 1\n",
        "\n",
        "    erro_verdadeiro = sum(erro)\n",
        "  conta_epoch += 1\n",
        "  erro_total = sum(erro)\n",
        "  print (\"Número de Epochs\", conta_epoch)\n",
        "\n",
        "print(\"Número de EPOCHS total do treinamento:\", conta_epoch)\n",
        "print(\"Número de padrões TOTAL:\", padrao)\n",
        "print(\"Erro:\", erro_total)"
      ],
      "metadata": {
        "id": "YZeNxn2wSfrb",
        "colab": {
          "base_uri": "https://localhost:8080/"
        },
        "outputId": "656ffd48-ad65-4b5b-e6b6-b92eb8043aa7"
      },
      "execution_count": 121,
      "outputs": [
        {
          "output_type": "stream",
          "name": "stdout",
          "text": [
            "Número de Epochs 1\n",
            "Número de Epochs 2\n",
            "Número de Epochs 3\n",
            "Número de Epochs 4\n",
            "Número de EPOCHS total do treinamento: 4\n",
            "Número de padrões TOTAL: 6170\n",
            "Erro: 0.0\n"
          ]
        }
      ]
    },
    {
      "cell_type": "code",
      "source": [
        "u"
      ],
      "metadata": {
        "colab": {
          "base_uri": "https://localhost:8080/"
        },
        "id": "byR9XqdGffYD",
        "outputId": "945bc276-3f23-46d9-86c1-6d578e0ec38a"
      },
      "execution_count": 122,
      "outputs": [
        {
          "output_type": "execute_result",
          "data": {
            "text/plain": [
              "array([ 0.        ,  0.        ,  0.        ,  0.        ,  0.        ,\n",
              "        0.        ,  0.        ,  0.        ,  0.        , 92.41535295])"
            ]
          },
          "metadata": {},
          "execution_count": 122
        }
      ]
    },
    {
      "cell_type": "code",
      "source": [
        "y_pred"
      ],
      "metadata": {
        "colab": {
          "base_uri": "https://localhost:8080/"
        },
        "id": "E2XXIiX7xxBL",
        "outputId": "c3ad5ef9-abfa-4b01-c371-9a403385bbc5"
      },
      "execution_count": 123,
      "outputs": [
        {
          "output_type": "execute_result",
          "data": {
            "text/plain": [
              "array([0., 0., 0., 0., 0., 0., 0., 0., 0., 1.])"
            ]
          },
          "metadata": {},
          "execution_count": 123
        }
      ]
    },
    {
      "cell_type": "code",
      "source": [
        "saida_desejada"
      ],
      "metadata": {
        "colab": {
          "base_uri": "https://localhost:8080/"
        },
        "id": "KJ2GdqOKx_VF",
        "outputId": "fb204c0c-baf1-4671-a0e7-8fa67a7f6d4f"
      },
      "execution_count": 124,
      "outputs": [
        {
          "output_type": "execute_result",
          "data": {
            "text/plain": [
              "array([0., 0., 0., 0., 0., 0., 0., 0., 0., 1.])"
            ]
          },
          "metadata": {},
          "execution_count": 124
        }
      ]
    },
    {
      "cell_type": "markdown",
      "source": [
        "### Teste do modelo"
      ],
      "metadata": {
        "id": "Hgxcs9IcToQm"
      }
    },
    {
      "cell_type": "code",
      "source": [
        "y_test = encoder.inverse_transform(y_test)"
      ],
      "metadata": {
        "id": "7ZNpXQewiRD2",
        "colab": {
          "base_uri": "https://localhost:8080/",
          "height": 342
        },
        "outputId": "901b679b-202c-4226-c7f7-d29853d54e6a"
      },
      "execution_count": 125,
      "outputs": [
        {
          "output_type": "stream",
          "name": "stderr",
          "text": [
            "/usr/local/lib/python3.8/dist-packages/sklearn/preprocessing/_encoders.py:582: FutureWarning: Arrays of bytes/strings is being converted to decimal numbers if dtype='numeric'. This behavior is deprecated in 0.24 and will be removed in 1.1 (renaming of 0.26). Please convert your data to numeric values explicitly instead.\n",
            "  X = check_array(X, accept_sparse=\"csr\")\n"
          ]
        },
        {
          "output_type": "error",
          "ename": "ValueError",
          "evalue": "ignored",
          "traceback": [
            "\u001b[0;31m---------------------------------------------------------------------------\u001b[0m",
            "\u001b[0;31mValueError\u001b[0m                                Traceback (most recent call last)",
            "\u001b[0;32m<ipython-input-125-dc38244d5408>\u001b[0m in \u001b[0;36m<module>\u001b[0;34m\u001b[0m\n\u001b[0;32m----> 1\u001b[0;31m \u001b[0my_test\u001b[0m \u001b[0;34m=\u001b[0m \u001b[0mencoder\u001b[0m\u001b[0;34m.\u001b[0m\u001b[0minverse_transform\u001b[0m\u001b[0;34m(\u001b[0m\u001b[0my_test\u001b[0m\u001b[0;34m)\u001b[0m\u001b[0;34m\u001b[0m\u001b[0;34m\u001b[0m\u001b[0m\n\u001b[0m",
            "\u001b[0;32m/usr/local/lib/python3.8/dist-packages/sklearn/preprocessing/_encoders.py\u001b[0m in \u001b[0;36minverse_transform\u001b[0;34m(self, X)\u001b[0m\n\u001b[1;32m    597\u001b[0m         )\n\u001b[1;32m    598\u001b[0m         \u001b[0;32mif\u001b[0m \u001b[0mX\u001b[0m\u001b[0;34m.\u001b[0m\u001b[0mshape\u001b[0m\u001b[0;34m[\u001b[0m\u001b[0;36m1\u001b[0m\u001b[0;34m]\u001b[0m \u001b[0;34m!=\u001b[0m \u001b[0mn_transformed_features\u001b[0m\u001b[0;34m:\u001b[0m\u001b[0;34m\u001b[0m\u001b[0;34m\u001b[0m\u001b[0m\n\u001b[0;32m--> 599\u001b[0;31m             \u001b[0;32mraise\u001b[0m \u001b[0mValueError\u001b[0m\u001b[0;34m(\u001b[0m\u001b[0mmsg\u001b[0m\u001b[0;34m.\u001b[0m\u001b[0mformat\u001b[0m\u001b[0;34m(\u001b[0m\u001b[0mn_transformed_features\u001b[0m\u001b[0;34m,\u001b[0m \u001b[0mX\u001b[0m\u001b[0;34m.\u001b[0m\u001b[0mshape\u001b[0m\u001b[0;34m[\u001b[0m\u001b[0;36m1\u001b[0m\u001b[0;34m]\u001b[0m\u001b[0;34m)\u001b[0m\u001b[0;34m)\u001b[0m\u001b[0;34m\u001b[0m\u001b[0;34m\u001b[0m\u001b[0m\n\u001b[0m\u001b[1;32m    600\u001b[0m \u001b[0;34m\u001b[0m\u001b[0m\n\u001b[1;32m    601\u001b[0m         \u001b[0;31m# create resulting array of appropriate dtype\u001b[0m\u001b[0;34m\u001b[0m\u001b[0;34m\u001b[0m\u001b[0;34m\u001b[0m\u001b[0m\n",
            "\u001b[0;31mValueError\u001b[0m: Shape of the passed X data is not correct. Expected 10 columns, got 1."
          ]
        }
      ]
    },
    {
      "cell_type": "code",
      "source": [
        "a = np.zeros(10)\n",
        "u = np.zeros(10)\n",
        "y_ = np.zeros(10)\n",
        "#y_pred = np.zeros(1403)\n",
        "y_pred = []\n",
        "for i in range(0,156):\n",
        "  for l in range(0,10):\n",
        "    a[l] = sum(pesos_entr*X_test[i])\n",
        "  u[l] = a[l] + (w0*x0)\n",
        "\n",
        "  if u[l] < 0:\n",
        "    y_[l] = 1 - (1/(1 + (exp(u[l]))))\n",
        "  else:\n",
        "    y_[l] = 1/(1 + (exp(-u[l])))\n",
        "  \n",
        "  y= np.concatenate([y_], axis=0)\n",
        "  y_pred.append(y)"
      ],
      "metadata": {
        "id": "zCDXxm2aYx1t"
      },
      "execution_count": 126,
      "outputs": []
    },
    {
      "cell_type": "code",
      "source": [
        "y_pred = encoder.inverse_transform(y_pred)"
      ],
      "metadata": {
        "id": "LDcjOlkBx4ak"
      },
      "execution_count": 127,
      "outputs": []
    },
    {
      "cell_type": "code",
      "source": [
        "from sklearn.metrics import confusion_matrix, accuracy_score, recall_score, precision_score\n",
        "cm = confusion_matrix(y_test, y_pred)\n",
        "print(cm)\n",
        "print(\"A acurácia do modelo foi de:  {:.2f}\".format(accuracy_score(y_test, y_pred)))\n",
        "#print(\"O recall do modelo foi de:  {:.2f}\".format(recall_score(y_test, y_pred)))\n",
        "#print(\"A precisão do modelo foi de:  {:.2f}\".format(precision_score(y_test, y_pred)))"
      ],
      "metadata": {
        "id": "6hwDmVP1Z5V1",
        "colab": {
          "base_uri": "https://localhost:8080/"
        },
        "outputId": "adf63962-a8e3-48f0-fca9-edf971fd6f57"
      },
      "execution_count": 128,
      "outputs": [
        {
          "output_type": "stream",
          "name": "stdout",
          "text": [
            "[[ 0  0  0  0  0  0  0  0  0 16]\n",
            " [ 0  0  0  0  0  0  0  0  0 18]\n",
            " [ 0  0  0  0  0  0  0  0  0 14]\n",
            " [ 0  0  0  0  0  0  0  0  0 19]\n",
            " [ 0  0  0  0  0  0  0  0  0 17]\n",
            " [ 0  0  0  0  0  0  0  0  0 15]\n",
            " [ 0  0  0  0  0  0  0  0  0 13]\n",
            " [ 0  0  0  0  0  0  0  0  0 15]\n",
            " [ 0  0  0  0  0  0  0  0  0 12]\n",
            " [ 0  0  0  0  0  0  0  0  0 17]]\n",
            "A acurácia do modelo foi de:  0.11\n"
          ]
        }
      ]
    }
  ]
}